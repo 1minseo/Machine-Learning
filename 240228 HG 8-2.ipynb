{
  "cells": [
    {
      "cell_type": "markdown",
      "metadata": {
        "id": "VsZV03UD5Qb5"
      },
      "source": [
        "합성곱 신경망을 사용한 이미지 분류"
      ]
    },
    {
      "cell_type": "markdown",
      "metadata": {
        "id": "MiG7uEQF5QcA"
      },
      "source": [
        "<table align=\"left\">\n",
        "  <td>\n",
        "    <a target=\"_blank\" href=\"https://colab.research.google.com/github/rickiepark/hg-mldl/blob/master/8-2.ipynb\"><img src=\"https://www.tensorflow.org/images/colab_logo_32px.png\" />구글 코랩에서 실행하기</a>\n",
        "  </td>\n",
        "</table>"
      ]
    },
    {
      "cell_type": "code",
      "execution_count": 3,
      "metadata": {
        "id": "pS9ZuQWfCeHe"
      },
      "outputs": [],
      "source": [
        "import tensorflow as tf\n",
        "\n",
        "tf.keras.utils.set_random_seed(42)\n",
        "tf.config.experimental.enable_op_determinism()"
      ]
    },
    {
      "cell_type": "markdown",
      "metadata": {
        "id": "fQSb0wK85QcA"
      },
      "source": [
        "패션 MNIST 데이터 불러오기"
      ]
    },
    {
      "cell_type": "code",
      "execution_count": 4,
      "metadata": {
        "colab": {
          "base_uri": "https://localhost:8080/"
        },
        "id": "BGJBttQs5QcA",
        "outputId": "da0921b4-d6bc-4adb-8160-957589a84dba"
      },
      "outputs": [],
      "source": [
        "#Fashion MNIST 데이터셋을 로드하고 전처리\n",
        "\n",
        "from tensorflow import keras\n",
        "from sklearn.model_selection import train_test_split\n",
        "\n",
        "(train_input, train_target), (test_input, test_target) = \\\n",
        "    keras.datasets.fashion_mnist.load_data()\n",
        "\n",
        "train_scaled = train_input.reshape(-1, 28, 28, 1) / 255.0\n",
        "#뒤에 차원만 하나 추가해서 3차원 -> 4차원 배열로\n",
        "#0~255까지의 정수값을 255로 나누어주면 0~1 사이의 값으로 스케일링됨 => 신경망 모델의 성능 향상을 위해 필수적\n",
        "\n",
        "train_scaled, val_scaled, train_target, val_target = train_test_split(\n",
        "    train_scaled, train_target, test_size=0.2, random_state=42)"
      ]
    },
    {
      "cell_type": "markdown",
      "metadata": {
        "id": "Y4m7l2115QcB"
      },
      "source": [
        "합성곱 신경망 만들기"
      ]
    },
    {
      "cell_type": "code",
      "execution_count": 5,
      "metadata": {
        "id": "wubmkM6q5QcB"
      },
      "outputs": [
        {
          "name": "stdout",
          "output_type": "stream",
          "text": [
            "WARNING:tensorflow:From c:\\Users\\tjoeun\\miniconda3\\envs\\tensorcpuenv\\lib\\site-packages\\keras\\src\\backend.py:873: The name tf.get_default_graph is deprecated. Please use tf.compat.v1.get_default_graph instead.\n",
            "\n"
          ]
        }
      ],
      "source": [
        "model = keras.Sequential() #Sequential 모델(=Keras에서 가장 간단한 형태의 모델로, 각 레이어를 순차적으로 쌓아 만들 수 있음) 생성"
      ]
    },
    {
      "cell_type": "code",
      "execution_count": 6,
      "metadata": {
        "id": "fcuXinil5QcB"
      },
      "outputs": [],
      "source": [
        "model.add(keras.layers.Conv2D(32, kernel_size=3, activation='relu',\n",
        "                              padding='same', input_shape=(28,28,1))) #앞에 32는 배치사이즈. 커널(필터)=3은 3*3*1"
      ]
    },
    {
      "cell_type": "code",
      "execution_count": 7,
      "metadata": {
        "id": "ddZAIUwJ5QcB"
      },
      "outputs": [
        {
          "name": "stdout",
          "output_type": "stream",
          "text": [
            "WARNING:tensorflow:From c:\\Users\\tjoeun\\miniconda3\\envs\\tensorcpuenv\\lib\\site-packages\\keras\\src\\layers\\pooling\\max_pooling2d.py:161: The name tf.nn.max_pool is deprecated. Please use tf.nn.max_pool2d instead.\n",
            "\n"
          ]
        }
      ],
      "source": [
        "#Sequential 모델에 Conv2D 레이어를 추가\n",
        "\n",
        "model.add(keras.layers.MaxPooling2D(2))\n",
        "\n",
        "#MaxPooling2D 레이어 추가 시 특성 맵의 공간 해상도 감소 => 모델이 위치에 대한 불변성을 학습하고, 더 적은 수의 파라미터로 모델을 구성할 수 있게 됨\n",
        "#2: 풀링 윈도우의 크기. 여기서는 2x2 크기의 풀링 윈도우 사용"
      ]
    },
    {
      "cell_type": "code",
      "execution_count": 8,
      "metadata": {
        "id": "6NbO08605QcC"
      },
      "outputs": [],
      "source": [
        "#Sequential 모델에 두 개의 레이어를 추가\n",
        "\n",
        "model.add(keras.layers.Conv2D(64, kernel_size=(3,3), activation='relu',\n",
        "                              padding='same'))\n",
        "#Conv2D 레이어 추가. 64: 커널(필터)의 개수, 3x3 크기의 필터 사용\n",
        "#활성화 함수로 ReLU함수(=음수 입력을 0으로 만드는 함수로, 비선형성을 추가하여 모델의 표현력을 향상시킴) 사용\n",
        "#padding='same' 설정 시 입력과 출력의 크기를 동일하게 유지할 수 있도록 입력에 패딩이 추가됨\n",
        "\n",
        "model.add(keras.layers.MaxPooling2D(2))\n",
        "#MaxPooling2D 레이어 추가. 2: 풀링 윈도우의 크기, 2x2 크기의 풀링 윈도우 사용\n",
        "#입력 이미지를 격자로 나누어 각 격자에서 가장 큰 값을 선택하여 다운샘플링 => 특성맵의 크기를 줄이고, 계산량을 감소시키면서 중요한 정보를 보존"
      ]
    },
    {
      "cell_type": "code",
      "execution_count": 9,
      "metadata": {
        "id": "sxlx0yyS5QcC"
      },
      "outputs": [],
      "source": [
        "#Sequential 모델에 네 개의 레이어를 추가\n",
        "\n",
        "model.add(keras.layers.Flatten()) #다차원 -> 1차원 Flatten(=이미지를 일렬로 펼치는 역할) 레이어 추가\n",
        "model.add(keras.layers.Dense(100, activation='relu')) #Dense 레이어 추가. 100: 뉴런의 개수, 활성화 함수로 ReLU함수 사용\n",
        "model.add(keras.layers.Dropout(0.4)) #Dropout(=무작위로 일부 뉴런을 제외시킴으로써 과적합을 방지하는 역할) 레이어 추가\n",
        "model.add(keras.layers.Dense(10, activation='softmax')) #Dense 레이어 추가. 출력 뉴런 10개=클래스의 개수"
      ]
    },
    {
      "cell_type": "code",
      "execution_count": 18,
      "metadata": {
        "colab": {
          "base_uri": "https://localhost:8080/"
        },
        "id": "1CFKlE-B5QcC",
        "outputId": "ef8fc701-45e2-4e80-b3c5-300f4e393fd4"
      },
      "outputs": [
        {
          "name": "stdout",
          "output_type": "stream",
          "text": [
            "Model: \"sequential\"\n",
            "_________________________________________________________________\n",
            " Layer (type)                Output Shape              Param #   \n",
            "=================================================================\n",
            " conv2d (Conv2D)             (None, 28, 28, 32)        320       \n",
            "                                                                 \n",
            " max_pooling2d (MaxPooling2  (None, 14, 14, 32)        0         \n",
            " D)                                                              \n",
            "                                                                 \n",
            " conv2d_1 (Conv2D)           (None, 14, 14, 64)        18496     \n",
            "                                                                 \n",
            " max_pooling2d_1 (MaxPoolin  (None, 7, 7, 64)          0         \n",
            " g2D)                                                            \n",
            "                                                                 \n",
            " flatten (Flatten)           (None, 3136)              0         \n",
            "                                                                 \n",
            " dense (Dense)               (None, 100)               313700    \n",
            "                                                                 \n",
            " dropout (Dropout)           (None, 100)               0         \n",
            "                                                                 \n",
            " dense_1 (Dense)             (None, 10)                1010      \n",
            "                                                                 \n",
            "=================================================================\n",
            "Total params: 333526 (1.27 MB)\n",
            "Trainable params: 333526 (1.27 MB)\n",
            "Non-trainable params: 0 (0.00 Byte)\n",
            "_________________________________________________________________\n"
          ]
        }
      ],
      "source": [
        "model.summary()"
      ]
    },
    {
      "cell_type": "code",
      "execution_count": 19,
      "metadata": {
        "colab": {
          "base_uri": "https://localhost:8080/",
          "height": 856
        },
        "id": "uO2xZfrF5QcD",
        "outputId": "f286500f-3aee-4147-a0ed-ad4c354a4493"
      },
      "outputs": [
        {
          "name": "stdout",
          "output_type": "stream",
          "text": [
            "You must install pydot (`pip install pydot`) and install graphviz (see instructions at https://graphviz.gitlab.io/download/) for plot_model to work.\n"
          ]
        }
      ],
      "source": [
        "keras.utils.plot_model(model)"
      ]
    },
    {
      "cell_type": "code",
      "execution_count": 17,
      "metadata": {},
      "outputs": [
        {
          "name": "stdout",
          "output_type": "stream",
          "text": [
            "Requirement already satisfied: pydot in c:\\users\\tjoeun\\miniconda3\\envs\\tensorcpuenv\\lib\\site-packages (2.0.0)\n",
            "Requirement already satisfied: pyparsing>=3 in c:\\users\\tjoeun\\miniconda3\\envs\\tensorcpuenv\\lib\\site-packages (from pydot) (3.1.1)\n"
          ]
        }
      ],
      "source": [
        "!pip install pydot"
      ]
    },
    {
      "cell_type": "code",
      "execution_count": 15,
      "metadata": {
        "colab": {
          "base_uri": "https://localhost:8080/",
          "height": 976
        },
        "id": "FQTWlPbY5QcD",
        "outputId": "5b0ac8e3-bfb7-4230-fb98-b7b0acedcb73"
      },
      "outputs": [
        {
          "name": "stdout",
          "output_type": "stream",
          "text": [
            "You must install pydot (`pip install pydot`) and install graphviz (see instructions at https://graphviz.gitlab.io/download/) for plot_model to work.\n"
          ]
        }
      ],
      "source": [
        "keras.utils.plot_model(model, show_shapes=True)"
      ]
    },
    {
      "cell_type": "markdown",
      "metadata": {
        "id": "7sO3by845QcE"
      },
      "source": [
        "모델 컴파일과 훈련"
      ]
    },
    {
      "cell_type": "code",
      "execution_count": 21,
      "metadata": {
        "colab": {
          "base_uri": "https://localhost:8080/"
        },
        "id": "Msys0HQp5QcE",
        "outputId": "f3d9dd4d-f62a-43e6-d72e-6dbf8a7f2cb9"
      },
      "outputs": [
        {
          "name": "stdout",
          "output_type": "stream",
          "text": [
            "Epoch 1/20\n",
            "1500/1500 [==============================] - 18s 11ms/step - loss: 0.1549 - accuracy: 0.9438 - val_loss: 0.2299 - val_accuracy: 0.9202\n",
            "Epoch 2/20\n",
            "  14/1500 [..............................] - ETA: 13s - loss: 0.1169 - accuracy: 0.9665"
          ]
        },
        {
          "name": "stderr",
          "output_type": "stream",
          "text": [
            "c:\\Users\\tjoeun\\miniconda3\\envs\\tensorcpuenv\\lib\\site-packages\\keras\\src\\engine\\training.py:3103: UserWarning: You are saving your model as an HDF5 file via `model.save()`. This file format is considered legacy. We recommend using instead the native Keras format, e.g. `model.save('my_model.keras')`.\n",
            "  saving_api.save_model(\n"
          ]
        },
        {
          "name": "stdout",
          "output_type": "stream",
          "text": [
            "1500/1500 [==============================] - 16s 11ms/step - loss: 0.1399 - accuracy: 0.9489 - val_loss: 0.2309 - val_accuracy: 0.9193\n",
            "Epoch 3/20\n",
            "1500/1500 [==============================] - 16s 11ms/step - loss: 0.1572 - accuracy: 0.9409 - val_loss: 0.2241 - val_accuracy: 0.9210\n",
            "Epoch 4/20\n",
            "1500/1500 [==============================] - 17s 11ms/step - loss: 0.1390 - accuracy: 0.9463 - val_loss: 0.2293 - val_accuracy: 0.9218\n",
            "Epoch 5/20\n",
            "1500/1500 [==============================] - 15s 10ms/step - loss: 0.1315 - accuracy: 0.9507 - val_loss: 0.2333 - val_accuracy: 0.9222\n"
          ]
        }
      ],
      "source": [
        "model.compile(optimizer='adam', loss='sparse_categorical_crossentropy',\n",
        "              metrics='accuracy')\n",
        "\n",
        "#'ModelCheckpoint' 콜백 설정: 모델 훈련 중에 가장 좋은 성능을 보이는 모델을 저장\n",
        "#save_best_only=True: 최상의 성능을 갖는 모델만 저장\n",
        "checkpoint_cb = keras.callbacks.ModelCheckpoint('best-cnn-model.h5',\n",
        "                                                save_best_only=True)\n",
        "\n",
        "#'EarlyStopping' 콜백 설정: 모델 훈련을 조기 종료시키는 역할\n",
        "#patience: 성능이 향상되지 않는 에포크를 얼마나 기다릴 것인지를 지정. 2번의 에포크 동안 성능 향상이 없으면 훈련이 조기 종료\n",
        "#restore_best_weights=True: 훈련이 조기 종료되었을 때 최상의 성능을 갖는 가중치로 모델이 복원\n",
        "early_stopping_cb = keras.callbacks.EarlyStopping(patience=2,\n",
        "                                                  restore_best_weights=True)\n",
        "\n",
        "history = model.fit(train_scaled, train_target, epochs=20, #epoch: 전체 훈련 데이터셋을 한 번 훈련하는 것\n",
        "                    validation_data=(val_scaled, val_target), #검증 데이터(=훈련 과정 중에 모델의 성능을 평가) 지정\n",
        "                    callbacks=[checkpoint_cb, early_stopping_cb])\n",
        "\n",
        "#모델 훈련 시 훈련 데이터와 검증 데이터에 대한 손실(loss)과 지정된 메트릭('accuracy')의 값이 기록\n",
        "#ModelCheckpoint 콜백: 훈련 중 가장 성능이 좋은 모델을 저장, EarlyStopping 콜백: 훈련 과정 중에 성능이 향상되지 않으면 훈련을 조기 종료"
      ]
    },
    {
      "cell_type": "code",
      "execution_count": null,
      "metadata": {
        "id": "Q9ZA46lb5QcE"
      },
      "outputs": [],
      "source": [
        "import matplotlib.pyplot as plt"
      ]
    },
    {
      "cell_type": "code",
      "execution_count": null,
      "metadata": {
        "colab": {
          "base_uri": "https://localhost:8080/",
          "height": 449
        },
        "id": "1JaC-KDn5QcF",
        "outputId": "5f00b69b-ff82-4471-cfc8-5168fa1ddad1"
      },
      "outputs": [
        {
          "data": {
            "image/png": "[encoded data removed]",
            "text/plain": [
              "<Figure size 640x480 with 1 Axes>"
            ]
          },
          "metadata": {},
          "output_type": "display_data"
        }
      ],
      "source": [
        "#훈련 데이터와 검증 데이터에 대한 손실(loss)을 시각화\n",
        "\n",
        "plt.plot(history.history['loss'])\n",
        "plt.plot(history.history['val_loss'])\n",
        "plt.xlabel('epoch') #x축에는 에포크(epoch)\n",
        "plt.ylabel('loss') #y축에는 손실(loss)\n",
        "plt.legend(['train', 'val'])\n",
        "plt.show()"
      ]
    },
    {
      "cell_type": "code",
      "execution_count": null,
      "metadata": {
        "colab": {
          "base_uri": "https://localhost:8080/"
        },
        "id": "W3pWBHLK5QcF",
        "outputId": "5b7bf7c8-30d9-4f54-8e0c-cfe6341e3657"
      },
      "outputs": [
        {
          "name": "stdout",
          "output_type": "stream",
          "text": [
            "375/375 [==============================] - 2s 4ms/step - loss: 0.2184 - accuracy: 0.9202\n"
          ]
        },
        {
          "data": {
            "text/plain": [
              "[0.21837268769741058, 0.9201666712760925]"
            ]
          },
          "execution_count": 14,
          "metadata": {},
          "output_type": "execute_result"
        }
      ],
      "source": [
        "model.evaluate(val_scaled, val_target) #(검증 데이터의 입력(features), 검증 데이터의 정답(labels))"
      ]
    },
    {
      "cell_type": "code",
      "execution_count": null,
      "metadata": {
        "colab": {
          "base_uri": "https://localhost:8080/",
          "height": 430
        },
        "id": "a9wUbDQL5QcG",
        "outputId": "3fe07796-1468-4e77-9111-b3cac2692c64"
      },
      "outputs": [
        {
          "data": {
            "image/png": "[encoded data removed]",
            "text/plain": [
              "<Figure size 640x480 with 1 Axes>"
            ]
          },
          "metadata": {},
          "output_type": "display_data"
        }
      ],
      "source": [
        "plt.imshow(val_scaled[0].reshape(28, 28), cmap='gray_r') #첫 번째 검증 데이터 샘플. 28x28 크기의 1차원 배열 -> 28x28 크기의 이미지로 변환\n",
        "plt.show()"
      ]
    },
    {
      "cell_type": "code",
      "execution_count": null,
      "metadata": {
        "colab": {
          "base_uri": "https://localhost:8080/"
        },
        "id": "nRe6TDpw5QcG",
        "outputId": "2ec206ef-3b79-420e-f5df-346de91b83e5",
        "scrolled": true
      },
      "outputs": [
        {
          "name": "stdout",
          "output_type": "stream",
          "text": [
            "1/1 [==============================] - 0s 145ms/step\n",
            "[[1.8268193e-17 1.3787586e-28 4.2490127e-21 2.5914228e-20 2.0842555e-18\n",
            "  4.0029022e-16 2.7016874e-17 4.9285534e-18 1.0000000e+00 6.1710207e-19]]\n"
          ]
        }
      ],
      "source": [
        "preds = model.predict(val_scaled[0:1]) #첫 번째 검증 데이터 샘플에 대한 예측을 수행\n",
        "print(preds)"
      ]
    },
    {
      "cell_type": "code",
      "execution_count": null,
      "metadata": {
        "colab": {
          "base_uri": "https://localhost:8080/",
          "height": 449
        },
        "id": "bOBfv6De5QcG",
        "outputId": "7efd111d-e8cd-4bdd-9c75-06f07f1f19fe"
      },
      "outputs": [
        {
          "data": {
            "image/png": "[encoded data removed]",
            "text/plain": [
              "<Figure size 640x480 with 1 Axes>"
            ]
          },
          "metadata": {},
          "output_type": "display_data"
        }
      ],
      "source": [
        "plt.bar(range(1, 11), preds[0])\n",
        "#막대 그래프. x축은 클래스, y축은 해당 클래스에 대한 예측 확률\n",
        "#preds[0]: 모델의 예측 결과. 각 클래스에 대한 예측 확률이 저장된 배열\n",
        "\n",
        "plt.xlabel('class')\n",
        "plt.ylabel('prob.')\n",
        "plt.show()\n",
        "\n",
        "#각 클래스에 대한 예측 확률을 시각적으로 확인 가능. 가장 높은 막대=해당 클래스에 대한 모델의 예측 확률"
      ]
    },
    {
      "cell_type": "code",
      "execution_count": null,
      "metadata": {
        "id": "917fZGHu5QcG"
      },
      "outputs": [],
      "source": [
        "classes = ['티셔츠', '바지', '스웨터', '드레스', '코트',\n",
        "           '샌달', '셔츠', '스니커즈', '가방', '앵클 부츠']"
      ]
    },
    {
      "cell_type": "code",
      "execution_count": null,
      "metadata": {
        "colab": {
          "base_uri": "https://localhost:8080/"
        },
        "id": "h1JqgKgk5QcH",
        "outputId": "9fbd4cb4-c340-4095-a398-145273a2b33d"
      },
      "outputs": [
        {
          "name": "stdout",
          "output_type": "stream",
          "text": [
            "가방\n"
          ]
        }
      ],
      "source": [
        "import numpy as np\n",
        "print(classes[np.argmax(preds)])\n",
        "\n",
        "#np.argmax(preds): 'preds'배열에서 가장 높은 확률을 갖는 인덱스\n",
        "#classes[np.argmax(preds)]: 찾은 인덱스를 사용하여 'classes'배열에서 해당 클래스를 가져옴"
      ]
    },
    {
      "cell_type": "code",
      "execution_count": null,
      "metadata": {
        "id": "G2ihSV-l5QcH"
      },
      "outputs": [],
      "source": [
        "test_scaled = test_input.reshape(-1, 28, 28, 1) / 255.0\n",
        "\n",
        "#-1: 원래 데이터의 크기를 유지하면서 나머지 차원을 28x28x1 형태로 변경. 1: 흑백 이미지(컬러 이미지의 경우 3(RGB))\n",
        "#/255.0: 이미지 데이터 정규화"
      ]
    },
    {
      "cell_type": "code",
      "execution_count": null,
      "metadata": {
        "colab": {
          "base_uri": "https://localhost:8080/"
        },
        "id": "1AHKDd2U5QcH",
        "outputId": "7df04851-db94-47d9-cf55-e35f46d3d026"
      },
      "outputs": [
        {
          "name": "stdout",
          "output_type": "stream",
          "text": [
            "313/313 [==============================] - 2s 5ms/step - loss: 0.2438 - accuracy: 0.9153\n"
          ]
        },
        {
          "data": {
            "text/plain": [
              "[0.24375781416893005, 0.9153000116348267]"
            ]
          },
          "execution_count": 21,
          "metadata": {},
          "output_type": "execute_result"
        }
      ],
      "source": [
        "model.evaluate(test_scaled, test_target)"
      ]
    }
  ],
  "metadata": {
    "accelerator": "GPU",
    "colab": {
      "name": "8-2.ipynb",
      "provenance": []
    },
    "kernelspec": {
      "display_name": "mltest2",
      "language": "python",
      "name": "python3"
    },
    "language_info": {
      "codemirror_mode": {
        "name": "ipython",
        "version": 3
      },
      "file_extension": ".py",
      "mimetype": "text/x-python",
      "name": "python",
      "nbconvert_exporter": "python",
      "pygments_lexer": "ipython3",
      "version": "3.9.18"
    }
  },
  "nbformat": 4,
  "nbformat_minor": 0
}
