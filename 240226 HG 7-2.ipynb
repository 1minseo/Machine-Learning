{
  "cells": [
    {
      "cell_type": "markdown",
      "metadata": {
        "id": "iNFOeMfl3tIu"
      },
      "source": [
        "심층 신경망"
      ]
    },
    {
      "cell_type": "markdown",
      "metadata": {
        "id": "zKfwb8gS3tI2"
      },
      "source": [
        "<table align=\"left\">\n",
        "  <td>\n",
        "    <a target=\"_blank\" href=\"https://colab.research.google.com/github/rickiepark/hg-mldl/blob/master/7-2.ipynb\"><img src=\"https://www.tensorflow.org/images/colab_logo_32px.png\" />구글 코랩에서 실행하기</a>\n",
        "  </td>\n",
        "</table>"
      ]
    },
    {
      "cell_type": "code",
      "execution_count": 2,
      "metadata": {
        "id": "ZT8SDtZVv41l"
      },
      "outputs": [
        {
          "name": "stdout",
          "output_type": "stream",
          "text": [
            "WARNING:tensorflow:From c:\\Users\\tjoeun\\miniconda3\\envs\\tensorcpuenv\\lib\\site-packages\\keras\\src\\losses.py:2976: The name tf.losses.sparse_softmax_cross_entropy is deprecated. Please use tf.compat.v1.losses.sparse_softmax_cross_entropy instead.\n",
            "\n"
          ]
        }
      ],
      "source": [
        "import tensorflow as tf\n",
        "\n",
        "tf.keras.utils.set_random_seed(42)\n",
        "tf.config.experimental.enable_op_determinism()"
      ]
    },
    {
      "cell_type": "markdown",
      "metadata": {
        "id": "dPE5XsFhcfVD"
      },
      "source": [
        "2개의 층"
      ]
    },
    {
      "cell_type": "code",
      "execution_count": 3,
      "metadata": {
        "colab": {
          "base_uri": "https://localhost:8080/"
        },
        "id": "4sNOMcdaFVKa",
        "outputId": "4af696d2-94c6-4523-a4cb-552792574b48"
      },
      "outputs": [],
      "source": [
        "#TensorFlow의 Keras 모듈(=딥러닝 모델을 쉽게 구축하고 학습할 수 있는 인터페이스 제공)을 사용하여 Fashion MNIST 데이터셋 로드\n",
        "\n",
        "from tensorflow import keras\n",
        "\n",
        "(train_input, train_target), (test_input, test_target) = keras.datasets.fashion_mnist.load_data()"
      ]
    },
    {
      "cell_type": "code",
      "execution_count": 4,
      "metadata": {
        "id": "aJJiRMa6FkWx"
      },
      "outputs": [],
      "source": [
        "#Fashion MNIST 데이터셋의 훈련 데이터를 전처리하고, 훈련 세트와 검증 세트로 나눔\n",
        "\n",
        "from sklearn.model_selection import train_test_split\n",
        "\n",
        "train_scaled = train_input / 255.0 #훈련데이터의 픽셀 값(0~255)을 0과 1사이의 값으로 스케일링\n",
        "train_scaled = train_scaled.reshape(-1, 28*28) #훈련데이터의 형태를 변경. 28x28 크기의 2차원 배열 -> 784개 픽셀로 이루어진 1차원 배열\n",
        "\n",
        "train_scaled, val_scaled, train_target, val_target = train_test_split(\n",
        "    train_scaled, train_target, test_size=0.2, random_state=42)"
      ]
    },
    {
      "cell_type": "code",
      "execution_count": 27,
      "metadata": {
        "id": "MCZWQiEwF6MD"
      },
      "outputs": [],
      "source": [
        "#Keras를 사용하여 각각의 레이어(layer) 정의\n",
        "#첫 번째 밀집층 정의. 100개의 뉴런, 활성화 함수로는 시그모이드 함수, 784=픽셀값으로 이루어진 28x28 크기의 이미지를 1차원 배열로 펼침\n",
        "\n",
        "dense1 = keras.layers.Dense(100, activation='sigmoid', input_shape=(784,))\n",
        "dense2 = keras.layers.Dense(10, activation='softmax') #두 번째 밀집층 정의. 10개의 뉴런, 활성화 함수로는 소프트맥스 함수"
      ]
    },
    {
      "cell_type": "markdown",
      "metadata": {
        "id": "Agy5gCVhcrm-"
      },
      "source": [
        "심층 신경망 만들기"
      ]
    },
    {
      "cell_type": "code",
      "execution_count": 6,
      "metadata": {
        "id": "xmWL7kOoGB4P"
      },
      "outputs": [],
      "source": [
        "#Sequential 모델을 생성하고, 이전에 정의된 두 개의 레이어를 순차적으로 추가\n",
        "\n",
        "model = keras.Sequential([dense1, dense2])"
      ]
    },
    {
      "cell_type": "code",
      "execution_count": 7,
      "metadata": {
        "colab": {
          "base_uri": "https://localhost:8080/"
        },
        "id": "em0xDl8qa12J",
        "outputId": "9cd9a669-2595-4783-869c-433ceac72cdd"
      },
      "outputs": [
        {
          "name": "stdout",
          "output_type": "stream",
          "text": [
            "Model: \"sequential\"\n",
            "_________________________________________________________________\n",
            " Layer (type)                Output Shape              Param #   \n",
            "=================================================================\n",
            " dense (Dense)               (None, 100)               78500     \n",
            "                                                                 \n",
            " dense_1 (Dense)             (None, 10)                1010      \n",
            "                                                                 \n",
            "=================================================================\n",
            "Total params: 79510 (310.59 KB)\n",
            "Trainable params: 79510 (310.59 KB)\n",
            "Non-trainable params: 0 (0.00 Byte)\n",
            "_________________________________________________________________\n"
          ]
        }
      ],
      "source": [
        "model.summary() #모델 구조와 파라미터 수에 대한 요약 정보"
      ]
    },
    {
      "cell_type": "markdown",
      "metadata": {
        "id": "qAi41rBTdk7k"
      },
      "source": [
        "층을 추가하는 다른 방법"
      ]
    },
    {
      "cell_type": "code",
      "execution_count": 8,
      "metadata": {
        "id": "0XeV6V4ha3I8"
      },
      "outputs": [],
      "source": [
        "#첫 번째 층인 hidden과 두 번째 층인 output으로 명명된 두 개의 층을 가진 Sequential 모델 생성\n",
        "\n",
        "model = keras.Sequential([\n",
        "    keras.layers.Dense(100, activation='sigmoid', input_shape=(784,), name='hidden'), #첫 번째 밀집층 정의\n",
        "    keras.layers.Dense(10, activation='softmax', name='output') #두 번째 밀집층 정의. 층의 이름=output\n",
        "], name='패션 MNIST 모델')\n"
      ]
    },
    {
      "cell_type": "code",
      "execution_count": 9,
      "metadata": {
        "colab": {
          "base_uri": "https://localhost:8080/"
        },
        "id": "bwXDLSOWbm3L",
        "outputId": "336b4ac7-3f82-40fb-e225-fa115072f7b9"
      },
      "outputs": [
        {
          "name": "stdout",
          "output_type": "stream",
          "text": [
            "Model: \"패션 MNIST 모델\"\n",
            "_________________________________________________________________\n",
            " Layer (type)                Output Shape              Param #   \n",
            "=================================================================\n",
            " hidden (Dense)              (None, 100)               78500     \n",
            "                                                                 \n",
            " output (Dense)              (None, 10)                1010      \n",
            "                                                                 \n",
            "=================================================================\n",
            "Total params: 79510 (310.59 KB)\n",
            "Trainable params: 79510 (310.59 KB)\n",
            "Non-trainable params: 0 (0.00 Byte)\n",
            "_________________________________________________________________\n"
          ]
        }
      ],
      "source": [
        "model.summary()"
      ]
    },
    {
      "cell_type": "code",
      "execution_count": 10,
      "metadata": {
        "id": "yZSAxgZCbax7"
      },
      "outputs": [],
      "source": [
        "#케라스(Keras)를 사용하여 간단한 신경망 모델 생성\n",
        "#소프트맥스 함수는 다중 클래스 분류 문제에서 각 클래스에 속할 확률을 출력하기 위해 사용\n",
        "\n",
        "model = keras.Sequential() #Sequential 모델(=각 층(layer)이 순차적으로 쌓여있는 신경망 모델) 생성\n",
        "model.add(keras.layers.Dense(100, activation='sigmoid', input_shape=(784,)))\n",
        "model.add(keras.layers.Dense(10, activation='softmax')) #모델에 두 번째 층을 추가"
      ]
    },
    {
      "cell_type": "code",
      "execution_count": 11,
      "metadata": {
        "colab": {
          "base_uri": "https://localhost:8080/"
        },
        "id": "bW2coaNQboe5",
        "outputId": "843207b4-596c-4500-b5c0-6dcd7a7bb786"
      },
      "outputs": [
        {
          "name": "stdout",
          "output_type": "stream",
          "text": [
            "Model: \"sequential_1\"\n",
            "_________________________________________________________________\n",
            " Layer (type)                Output Shape              Param #   \n",
            "=================================================================\n",
            " dense_2 (Dense)             (None, 100)               78500     \n",
            "                                                                 \n",
            " dense_3 (Dense)             (None, 10)                1010      \n",
            "                                                                 \n",
            "=================================================================\n",
            "Total params: 79510 (310.59 KB)\n",
            "Trainable params: 79510 (310.59 KB)\n",
            "Non-trainable params: 0 (0.00 Byte)\n",
            "_________________________________________________________________\n"
          ]
        }
      ],
      "source": [
        "model.summary()"
      ]
    },
    {
      "cell_type": "code",
      "execution_count": 12,
      "metadata": {
        "colab": {
          "base_uri": "https://localhost:8080/"
        },
        "id": "kkYrPJembpYk",
        "outputId": "b8849ec0-5274-4dc8-a653-c80b1fb6772b"
      },
      "outputs": [
        {
          "name": "stdout",
          "output_type": "stream",
          "text": [
            "WARNING:tensorflow:From c:\\Users\\tjoeun\\miniconda3\\envs\\tensorcpuenv\\lib\\site-packages\\keras\\src\\optimizers\\__init__.py:309: The name tf.train.Optimizer is deprecated. Please use tf.compat.v1.train.Optimizer instead.\n",
            "\n"
          ]
        },
        {
          "name": "stdout",
          "output_type": "stream",
          "text": [
            "Epoch 1/5\n",
            "WARNING:tensorflow:From c:\\Users\\tjoeun\\miniconda3\\envs\\tensorcpuenv\\lib\\site-packages\\keras\\src\\utils\\tf_utils.py:492: The name tf.ragged.RaggedTensorValue is deprecated. Please use tf.compat.v1.ragged.RaggedTensorValue instead.\n",
            "\n",
            "WARNING:tensorflow:From c:\\Users\\tjoeun\\miniconda3\\envs\\tensorcpuenv\\lib\\site-packages\\keras\\src\\engine\\base_layer_utils.py:384: The name tf.executing_eagerly_outside_functions is deprecated. Please use tf.compat.v1.executing_eagerly_outside_functions instead.\n",
            "\n",
            "1500/1500 [==============================] - 3s 1ms/step - loss: 0.5710 - accuracy: 0.8064\n",
            "Epoch 2/5\n",
            "1500/1500 [==============================] - 2s 1ms/step - loss: 0.4132 - accuracy: 0.8509\n",
            "Epoch 3/5\n",
            "1500/1500 [==============================] - 2s 1ms/step - loss: 0.3776 - accuracy: 0.8646\n",
            "Epoch 4/5\n",
            "1500/1500 [==============================] - 2s 1ms/step - loss: 0.3530 - accuracy: 0.8732\n",
            "Epoch 5/5\n",
            "1500/1500 [==============================] - 2s 1ms/step - loss: 0.3344 - accuracy: 0.8782\n"
          ]
        },
        {
          "data": {
            "text/plain": [
              "<keras.src.callbacks.History at 0x1ccd78afb80>"
            ]
          },
          "execution_count": 12,
          "metadata": {},
          "output_type": "execute_result"
        }
      ],
      "source": [
        "model.compile(loss='sparse_categorical_crossentropy', metrics='accuracy')\n",
        "\n",
        "model.fit(train_scaled, train_target, epochs=5)\n",
        "\n",
        "#epochs=5: 전체 훈련 데이터셋에 대해 모델이 학습을 반복할 횟수. 5번의 에포크(epoch)동안 훈련\n",
        "#훈련된 모델은 손실 함수와 평가 지표를 사용하여 성능을 평가할 수 있음"
      ]
    },
    {
      "cell_type": "markdown",
      "metadata": {
        "id": "_dfXJDhwcyAK"
      },
      "source": [
        "렐루 활성화 함수"
      ]
    },
    {
      "cell_type": "code",
      "execution_count": 13,
      "metadata": {
        "id": "dG7yF8g6b062"
      },
      "outputs": [],
      "source": [
        "#Keras를 사용하여 다른 형식의 신경망 모델 생성\n",
        "#입력층, 은닉층, 출력층으로 구성된 다층 퍼셉트론(multilayer perceptron, MLP)\n",
        "\n",
        "model = keras.Sequential() #Sequential 모델(=각 층(layer)이 순차적으로 쌓여있는 신경망 모델) 생성\n",
        "model.add(keras.layers.Flatten(input_shape=(28, 28))) #모델에 첫 번째 층 추가. Flatten: 입력 데이터를 1차원 배열로 평평하게 펼치는 역할. 28x28 크기의 이미지를 1차원 배열로 변환\n",
        "model.add(keras.layers.Dense(100, activation='relu')) #모델에 두 번째 층 추가. 입력이 0보다 작을 때는 0을, 0보다 클 때는 그 값을 그대로 출력하는 'ReLU 함수' 사용\n",
        "model.add(keras.layers.Dense(10, activation='softmax')) #모델에 세 번째 층 추가. 다중 클래스 분류 문제에서 각 클래스에 속할 확률을 출력하기 위해 사용되는 '소프트맥스 함수'"
      ]
    },
    {
      "cell_type": "code",
      "execution_count": 14,
      "metadata": {
        "colab": {
          "base_uri": "https://localhost:8080/"
        },
        "id": "zHogWhu6g90a",
        "outputId": "4d4b7714-d834-499b-a928-2c9bd198134f"
      },
      "outputs": [
        {
          "name": "stdout",
          "output_type": "stream",
          "text": [
            "Model: \"sequential_2\"\n",
            "_________________________________________________________________\n",
            " Layer (type)                Output Shape              Param #   \n",
            "=================================================================\n",
            " flatten (Flatten)           (None, 784)               0         \n",
            "                                                                 \n",
            " dense_4 (Dense)             (None, 100)               78500     \n",
            "                                                                 \n",
            " dense_5 (Dense)             (None, 10)                1010      \n",
            "                                                                 \n",
            "=================================================================\n",
            "Total params: 79510 (310.59 KB)\n",
            "Trainable params: 79510 (310.59 KB)\n",
            "Non-trainable params: 0 (0.00 Byte)\n",
            "_________________________________________________________________\n"
          ]
        }
      ],
      "source": [
        "model.summary()"
      ]
    },
    {
      "cell_type": "code",
      "execution_count": 15,
      "metadata": {
        "id": "JfPe_ruQdhqA"
      },
      "outputs": [],
      "source": [
        "#Fashion MNIST 데이터셋 로드 -> 전처리\n",
        "\n",
        "(train_input, train_target), (test_input, test_target) = keras.datasets.fashion_mnist.load_data() #load_data(): 훈련 데이터와 테스트 데이터를 튜플 형태로 반환\n",
        "\n",
        "train_scaled = train_input / 255.0 #각 픽셀 값은 0부터 255까지의 값을 가지므로, 이를 255로 나누어서 0에서 1사이의 값으로 변환\n",
        "\n",
        "train_scaled, val_scaled, train_target, val_target = train_test_split(\n",
        "    train_scaled, train_target, test_size=0.2, random_state=42)"
      ]
    },
    {
      "cell_type": "code",
      "execution_count": 16,
      "metadata": {
        "colab": {
          "base_uri": "https://localhost:8080/"
        },
        "id": "9PGejuuhdvvk",
        "outputId": "9d6860e5-ea5a-4240-eb45-9a6783c52321"
      },
      "outputs": [
        {
          "name": "stdout",
          "output_type": "stream",
          "text": [
            "Epoch 1/5\n",
            "1500/1500 [==============================] - 3s 1ms/step - loss: 0.5291 - accuracy: 0.8113\n",
            "Epoch 2/5\n",
            "1500/1500 [==============================] - 2s 1ms/step - loss: 0.3924 - accuracy: 0.8580\n",
            "Epoch 3/5\n",
            "1500/1500 [==============================] - 2s 1ms/step - loss: 0.3524 - accuracy: 0.8718\n",
            "Epoch 4/5\n",
            "1500/1500 [==============================] - 2s 1ms/step - loss: 0.3319 - accuracy: 0.8819\n",
            "Epoch 5/5\n",
            "1500/1500 [==============================] - 2s 1ms/step - loss: 0.3147 - accuracy: 0.8867\n"
          ]
        },
        {
          "data": {
            "text/plain": [
              "<keras.src.callbacks.History at 0x1cce8455100>"
            ]
          },
          "execution_count": 16,
          "metadata": {},
          "output_type": "execute_result"
        }
      ],
      "source": [
        "model.compile(loss='sparse_categorical_crossentropy', metrics='accuracy') #모델을 컴파일. compile() 메소드를 사용하여 모델의 손실함수(loss function)와 평가지표(metrics)를 설정\n",
        "\n",
        "model.fit(train_scaled, train_target, epochs=5)"
      ]
    },
    {
      "cell_type": "code",
      "execution_count": 17,
      "metadata": {
        "colab": {
          "base_uri": "https://localhost:8080/"
        },
        "id": "lVYLpnjeep4y",
        "outputId": "1f3d6a5f-e210-442e-97d0-e5c393561466"
      },
      "outputs": [
        {
          "name": "stdout",
          "output_type": "stream",
          "text": [
            "375/375 [==============================] - 1s 986us/step - loss: 0.3833 - accuracy: 0.8680\n"
          ]
        },
        {
          "data": {
            "text/plain": [
              "[0.38328099250793457, 0.8679999709129333]"
            ]
          },
          "execution_count": 17,
          "metadata": {},
          "output_type": "execute_result"
        }
      ],
      "source": [
        "model.evaluate(val_scaled, val_target)\n",
        "\n",
        "#검증 세트에 대한 모델의 성능을 평가\n",
        "#(검증 세트의 입력 데이터, 검증 세트의 타겟 변수(레이블))"
      ]
    },
    {
      "cell_type": "markdown",
      "metadata": {
        "id": "3YtLsmGAoavz"
      },
      "source": [
        "옵티마이저"
      ]
    },
    {
      "cell_type": "code",
      "execution_count": 18,
      "metadata": {
        "id": "NxVj04Haocwa"
      },
      "outputs": [],
      "source": [
        "model.compile(optimizer='sgd', loss='sparse_categorical_crossentropy', metrics='accuracy')\n",
        "#확률적 경사 하강법(SGD)을 옵티마이저로, : sparse categorical cross-entropy를 손실함수로, 정확도를 훈련 및 평가 중에 모니터링할 지표로 설정"
      ]
    },
    {
      "cell_type": "code",
      "execution_count": 19,
      "metadata": {
        "id": "1426O4G8Hpfi"
      },
      "outputs": [],
      "source": [
        "#SGD(Stochastic Gradient Descent) 옵티마이저를 생성하고 'compile' 메서드에 전달\n",
        "\n",
        "sgd = keras.optimizers.SGD() #SGD 옵티마이저 생성\n",
        "model.compile(optimizer=sgd, loss='sparse_categorical_crossentropy', metrics='accuracy') #모델 설정"
      ]
    },
    {
      "cell_type": "code",
      "execution_count": 20,
      "metadata": {
        "id": "Sh-HDiULlp18"
      },
      "outputs": [],
      "source": [
        "sgd = keras.optimizers.SGD(learning_rate=0.1) #학습률이 0.1인 SGD 옵티마이저 생성"
      ]
    },
    {
      "cell_type": "code",
      "execution_count": 21,
      "metadata": {
        "id": "uF1XolBXsl3a"
      },
      "outputs": [],
      "source": [
        "sgd = keras.optimizers.SGD(momentum=0.9, nesterov=True) #모멘텀이 0.9이고 네스테로프 모멘텀을 사용하는 SGD 옵티마이저 생성"
      ]
    },
    {
      "cell_type": "code",
      "execution_count": 22,
      "metadata": {
        "id": "Hy2MENbL170j"
      },
      "outputs": [],
      "source": [
        "#Adagrad 옵티마이저를 사용하여 모델을 컴파일\n",
        "\n",
        "adagrad = keras.optimizers.Adagrad() #Adagrad 옵티마이저 생성\n",
        "model.compile(optimizer=adagrad, loss='sparse_categorical_crossentropy', metrics='accuracy')"
      ]
    },
    {
      "cell_type": "code",
      "execution_count": 23,
      "metadata": {
        "id": "KkpbSMXWtakr"
      },
      "outputs": [],
      "source": [
        "#RMSprp 옵티마이저를 사용하여 모델을 컴파일\n",
        "\n",
        "rmsprop = keras.optimizers.RMSprop()\n",
        "model.compile(optimizer=rmsprop, loss='sparse_categorical_crossentropy', metrics='accuracy')"
      ]
    },
    {
      "cell_type": "code",
      "execution_count": 24,
      "metadata": {
        "id": "Gdu0hQIAz4JW"
      },
      "outputs": [],
      "source": [
        "#입력층, 은닉층, 출력층을 순차적으로 연결하여 간단한 분류 모델 구성\n",
        "\n",
        "model = keras.Sequential() #Sequential 모델(=선형으로 연결하여 순차적으로 처리하는 모델) 생성\n",
        "model.add(keras.layers.Flatten(input_shape=(28, 28))) #입력 데이터를 28x28 크기의 이미지로 받아 평평하게 만드는 Flatten 레이어 추기\n",
        "model.add(keras.layers.Dense(100, activation='relu')) #100개의 뉴런을 가지는 은닉층 추가, 활성화 함수는 ReLU\n",
        "model.add(keras.layers.Dense(10, activation='softmax')) #출력층으로 10개의 뉴런을 가지는 층 추가, 활성화 함수는 소프트맥스"
      ]
    },
    {
      "cell_type": "code",
      "execution_count": 25,
      "metadata": {
        "colab": {
          "base_uri": "https://localhost:8080/"
        },
        "id": "2tcxIfILoi1t",
        "outputId": "f808142b-a65b-4e7a-a58d-4463fff4b8c7"
      },
      "outputs": [
        {
          "name": "stdout",
          "output_type": "stream",
          "text": [
            "Epoch 1/5\n",
            "1500/1500 [==============================] - 3s 1ms/step - loss: 0.5262 - accuracy: 0.8154\n",
            "Epoch 2/5\n",
            "1500/1500 [==============================] - 2s 1ms/step - loss: 0.3940 - accuracy: 0.8589\n",
            "Epoch 3/5\n",
            "1500/1500 [==============================] - 2s 1ms/step - loss: 0.3546 - accuracy: 0.8702\n",
            "Epoch 4/5\n",
            "1500/1500 [==============================] - 2s 1ms/step - loss: 0.3284 - accuracy: 0.8794\n",
            "Epoch 5/5\n",
            "1500/1500 [==============================] - 2s 1ms/step - loss: 0.3058 - accuracy: 0.8875\n"
          ]
        },
        {
          "data": {
            "text/plain": [
              "<keras.src.callbacks.History at 0x1cc82d7a040>"
            ]
          },
          "execution_count": 25,
          "metadata": {},
          "output_type": "execute_result"
        }
      ],
      "source": [
        "#Adam 옵티마이저를 사용하여 모델을 컴파일하고, 훈련 데이터를 사용하여 모델을 학습\n",
        "\n",
        "model.compile(optimizer='adam', loss='sparse_categorical_crossentropy', metrics='accuracy') #모델 컴파일\n",
        "\n",
        "model.fit(train_scaled, train_target, epochs=5) #epochs: 전체 데이터셋에 대해 반복하는 횟수. 5번 반복하여 모델을 학습"
      ]
    },
    {
      "cell_type": "code",
      "execution_count": 26,
      "metadata": {
        "colab": {
          "base_uri": "https://localhost:8080/"
        },
        "id": "8gxAWehsv9Gi",
        "outputId": "4d93e991-ae20-45fb-93e0-35f160829dd8"
      },
      "outputs": [
        {
          "name": "stdout",
          "output_type": "stream",
          "text": [
            "375/375 [==============================] - 1s 1ms/step - loss: 0.3468 - accuracy: 0.8762\n"
          ]
        },
        {
          "data": {
            "text/plain": [
              "[0.3468457758426666, 0.8761666417121887]"
            ]
          },
          "execution_count": 26,
          "metadata": {},
          "output_type": "execute_result"
        }
      ],
      "source": [
        "#검증 데이터를 사용하여 모델의 성능을 평가하고, 손실과 정확도를 출력\n",
        "\n",
        "model.evaluate(val_scaled, val_target)"
      ]
    }
  ],
  "metadata": {
    "accelerator": "GPU",
    "colab": {
      "name": "7-2 심층 신경망.ipynb",
      "provenance": []
    },
    "kernelspec": {
      "display_name": "mltest2",
      "language": "python",
      "name": "python3"
    },
    "language_info": {
      "codemirror_mode": {
        "name": "ipython",
        "version": 3
      },
      "file_extension": ".py",
      "mimetype": "text/x-python",
      "name": "python",
      "nbconvert_exporter": "python",
      "pygments_lexer": "ipython3",
      "version": "3.9.18"
    }
  },
  "nbformat": 4,
  "nbformat_minor": 0
}
