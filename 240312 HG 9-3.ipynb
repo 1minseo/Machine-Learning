{
  "cells": [
    {
      "cell_type": "markdown",
      "metadata": {
        "id": "AlaMdWF26k2H"
      },
      "source": [
        "LSTM, GRU"
      ]
    },
    {
      "cell_type": "markdown",
      "metadata": {
        "id": "o_Csb7v96k2M"
      },
      "source": [
        "<table align=\"left\">\n",
        "  <td>\n",
        "    <a target=\"_blank\" href=\"https://colab.research.google.com/github/rickiepark/hg-mldl/blob/master/9-3.ipynb\"><img src=\"https://www.tensorflow.org/images/colab_logo_32px.png\" />구글 코랩에서 실행하기</a>\n",
        "  </td>\n",
        "</table>"
      ]
    },
    {
      "cell_type": "code",
      "execution_count": 2,
      "metadata": {
        "id": "fJIx0dHbIAmO"
      },
      "outputs": [],
      "source": [
        "import tensorflow as tf\n",
        "\n",
        "tf.keras.utils.set_random_seed(42)\n",
        "tf.config.experimental.enable_op_determinism() # TensorFlow에서 연산 결정론적 실행을 활성화하는 함수"
      ]
    },
    {
      "cell_type": "markdown",
      "metadata": {
        "id": "KWi9yl0q6k2N"
      },
      "source": [
        "LSTM 신경망 훈련하기"
      ]
    },
    {
      "cell_type": "code",
      "execution_count": 3,
      "metadata": {
        "colab": {
          "base_uri": "https://localhost:8080/"
        },
        "id": "XL7x0NCx6k2N",
        "outputId": "e2841433-5550-46fd-d948-dd1939542cb7"
      },
      "outputs": [
        {
          "name": "stdout",
          "output_type": "stream",
          "text": [
            "Downloading data from https://storage.googleapis.com/tensorflow/tf-keras-datasets/imdb.npz\n",
            "17464789/17464789 [==============================] - 1s 0us/step\n"
          ]
        }
      ],
      "source": [
        "from tensorflow.keras.datasets import imdb\n",
        "from sklearn.model_selection import train_test_split\n",
        "\n",
        "(train_input, train_target), (test_input, test_target) = imdb.load_data(\n",
        "    num_words=500) # 가장 자주 등장하는 단어 500개만 사용\n",
        "\n",
        "train_input, val_input, train_target, val_target = train_test_split(\n",
        "    train_input, train_target, test_size=0.2, random_state=42)"
      ]
    },
    {
      "cell_type": "code",
      "execution_count": 4,
      "metadata": {
        "id": "5bjJ14QJ6k2O"
      },
      "outputs": [],
      "source": [
        "# 시퀀스 데이터를 패딩하여 일정한 길이로 만드는 작업\n",
        "from tensorflow.keras.preprocessing.sequence import pad_sequences\n",
        "\n",
        "train_seq = pad_sequences(train_input, maxlen=100) # 패딩된 시퀀스의 최대 길이=100. 입력 시퀀스의 길이가 100보다 짧으면 패딩이 추가되어 시퀀스의 길이가 100이 됨\n",
        "val_seq = pad_sequences(val_input, maxlen=100)"
      ]
    },
    {
      "cell_type": "code",
      "execution_count": 5,
      "metadata": {
        "colab": {
          "base_uri": "https://localhost:8080/"
        },
        "id": "uMlTD4zv6k2O",
        "outputId": "6c4ada2d-0e51-47b0-9162-d97f97e77035"
      },
      "outputs": [
        {
          "name": "stdout",
          "output_type": "stream",
          "text": [
            "WARNING:tensorflow:From c:\\Users\\tjoeun\\miniconda3\\envs\\tensorcpuenv\\lib\\site-packages\\keras\\src\\backend.py:873: The name tf.get_default_graph is deprecated. Please use tf.compat.v1.get_default_graph instead.\n",
            "\n",
            "Model: \"sequential\"\n",
            "_________________________________________________________________\n",
            " Layer (type)                Output Shape              Param #   \n",
            "=================================================================\n",
            " embedding (Embedding)       (None, 100, 16)           8000      \n",
            "                                                                 \n",
            " lstm (LSTM)                 (None, 8)                 800       \n",
            "                                                                 \n",
            " dense (Dense)               (None, 1)                 9         \n",
            "                                                                 \n",
            "=================================================================\n",
            "Total params: 8809 (34.41 KB)\n",
            "Trainable params: 8809 (34.41 KB)\n",
            "Non-trainable params: 0 (0.00 Byte)\n",
            "_________________________________________________________________\n"
          ]
        }
      ],
      "source": [
        "from tensorflow import keras # 딥러닝 모델을 구축하고 학습하기 위해 필요란 모듈을 임포트\n",
        "\n",
        "model = keras.Sequential() # 각 레이어를 순차적으로 쌓아서 모델을 구축하는 Sequential 모델\n",
        "\n",
        "model.add(keras.layers.Embedding(500, 16, input_length=100)) # 단어를 고정된 길이의 벡터로 변환해주는 역할을 하는 Embedding 레이어 추가\n",
        "model.add(keras.layers.LSTM(8)) # LSTM(Long Short-Term Memory) 레이어 추가. LSTM의 유닛 수=8\n",
        "model.add(keras.layers.Dense(1, activation='sigmoid')) # Fully Connected 레이어 추가\n",
        "\n",
        "model.summary()"
      ]
    },
    {
      "cell_type": "code",
      "execution_count": 6,
      "metadata": {
        "colab": {
          "base_uri": "https://localhost:8080/"
        },
        "id": "nCmqOkjI6k2P",
        "outputId": "3c2edebf-f182-4902-a367-156044f5e221"
      },
      "outputs": [
        {
          "name": "stdout",
          "output_type": "stream",
          "text": [
            "Epoch 1/100\n",
            "WARNING:tensorflow:From c:\\Users\\tjoeun\\miniconda3\\envs\\tensorcpuenv\\lib\\site-packages\\keras\\src\\utils\\tf_utils.py:492: The name tf.ragged.RaggedTensorValue is deprecated. Please use tf.compat.v1.ragged.RaggedTensorValue instead.\n",
            "\n",
            "WARNING:tensorflow:From c:\\Users\\tjoeun\\miniconda3\\envs\\tensorcpuenv\\lib\\site-packages\\keras\\src\\engine\\base_layer_utils.py:384: The name tf.executing_eagerly_outside_functions is deprecated. Please use tf.compat.v1.executing_eagerly_outside_functions instead.\n",
            "\n",
            "313/313 [==============================] - 8s 20ms/step - loss: 0.6927 - accuracy: 0.5277 - val_loss: 0.6924 - val_accuracy: 0.5368\n",
            "Epoch 2/100\n",
            "  7/313 [..............................] - ETA: 5s - loss: 0.6923 - accuracy: 0.5670"
          ]
        },
        {
          "name": "stderr",
          "output_type": "stream",
          "text": [
            "c:\\Users\\tjoeun\\miniconda3\\envs\\tensorcpuenv\\lib\\site-packages\\keras\\src\\engine\\training.py:3103: UserWarning: You are saving your model as an HDF5 file via `model.save()`. This file format is considered legacy. We recommend using instead the native Keras format, e.g. `model.save('my_model.keras')`.\n",
            "  saving_api.save_model(\n"
          ]
        },
        {
          "name": "stdout",
          "output_type": "stream",
          "text": [
            "313/313 [==============================] - 6s 18ms/step - loss: 0.6916 - accuracy: 0.5677 - val_loss: 0.6911 - val_accuracy: 0.5668\n",
            "Epoch 3/100\n",
            "313/313 [==============================] - 6s 18ms/step - loss: 0.6896 - accuracy: 0.6011 - val_loss: 0.6883 - val_accuracy: 0.6062\n",
            "Epoch 4/100\n",
            "313/313 [==============================] - 6s 18ms/step - loss: 0.6842 - accuracy: 0.6363 - val_loss: 0.6792 - val_accuracy: 0.6618\n",
            "Epoch 5/100\n",
            "313/313 [==============================] - 6s 18ms/step - loss: 0.6589 - accuracy: 0.6827 - val_loss: 0.6277 - val_accuracy: 0.7076\n",
            "Epoch 6/100\n",
            "313/313 [==============================] - 6s 18ms/step - loss: 0.6084 - accuracy: 0.7135 - val_loss: 0.5964 - val_accuracy: 0.7114\n",
            "Epoch 7/100\n",
            "313/313 [==============================] - 6s 18ms/step - loss: 0.5834 - accuracy: 0.7280 - val_loss: 0.5746 - val_accuracy: 0.7330\n",
            "Epoch 8/100\n",
            "313/313 [==============================] - 6s 18ms/step - loss: 0.5617 - accuracy: 0.7452 - val_loss: 0.5553 - val_accuracy: 0.7452\n",
            "Epoch 9/100\n",
            "313/313 [==============================] - 6s 18ms/step - loss: 0.5421 - accuracy: 0.7560 - val_loss: 0.5375 - val_accuracy: 0.7578\n",
            "Epoch 10/100\n",
            "313/313 [==============================] - 6s 18ms/step - loss: 0.5248 - accuracy: 0.7675 - val_loss: 0.5226 - val_accuracy: 0.7646\n",
            "Epoch 11/100\n",
            "313/313 [==============================] - 6s 18ms/step - loss: 0.5089 - accuracy: 0.7749 - val_loss: 0.5087 - val_accuracy: 0.7740\n",
            "Epoch 12/100\n",
            "313/313 [==============================] - 6s 18ms/step - loss: 0.4946 - accuracy: 0.7822 - val_loss: 0.4974 - val_accuracy: 0.7750\n",
            "Epoch 13/100\n",
            "313/313 [==============================] - 6s 19ms/step - loss: 0.4822 - accuracy: 0.7883 - val_loss: 0.4860 - val_accuracy: 0.7860\n",
            "Epoch 14/100\n",
            "313/313 [==============================] - 6s 19ms/step - loss: 0.4706 - accuracy: 0.7948 - val_loss: 0.4763 - val_accuracy: 0.7866\n",
            "Epoch 15/100\n",
            "313/313 [==============================] - 6s 18ms/step - loss: 0.4605 - accuracy: 0.7986 - val_loss: 0.4776 - val_accuracy: 0.7790\n",
            "Epoch 16/100\n",
            "313/313 [==============================] - 6s 18ms/step - loss: 0.4518 - accuracy: 0.8043 - val_loss: 0.4627 - val_accuracy: 0.7866\n",
            "Epoch 17/100\n",
            "313/313 [==============================] - 6s 18ms/step - loss: 0.4438 - accuracy: 0.8074 - val_loss: 0.4557 - val_accuracy: 0.7920\n",
            "Epoch 18/100\n",
            "313/313 [==============================] - 6s 18ms/step - loss: 0.4376 - accuracy: 0.8080 - val_loss: 0.4491 - val_accuracy: 0.7932\n",
            "Epoch 19/100\n",
            "313/313 [==============================] - 6s 18ms/step - loss: 0.4320 - accuracy: 0.8108 - val_loss: 0.4467 - val_accuracy: 0.7942\n",
            "Epoch 20/100\n",
            "313/313 [==============================] - 6s 18ms/step - loss: 0.4278 - accuracy: 0.8116 - val_loss: 0.4420 - val_accuracy: 0.7982\n",
            "Epoch 21/100\n",
            "313/313 [==============================] - 6s 18ms/step - loss: 0.4246 - accuracy: 0.8116 - val_loss: 0.4392 - val_accuracy: 0.7986\n",
            "Epoch 22/100\n",
            "313/313 [==============================] - 6s 18ms/step - loss: 0.4220 - accuracy: 0.8141 - val_loss: 0.4414 - val_accuracy: 0.7982\n",
            "Epoch 23/100\n",
            "313/313 [==============================] - 6s 18ms/step - loss: 0.4198 - accuracy: 0.8146 - val_loss: 0.4356 - val_accuracy: 0.8000\n",
            "Epoch 24/100\n",
            "313/313 [==============================] - 6s 18ms/step - loss: 0.4175 - accuracy: 0.8149 - val_loss: 0.4367 - val_accuracy: 0.7986\n",
            "Epoch 25/100\n",
            "313/313 [==============================] - 5s 18ms/step - loss: 0.4161 - accuracy: 0.8140 - val_loss: 0.4334 - val_accuracy: 0.8000\n",
            "Epoch 26/100\n",
            "313/313 [==============================] - 5s 17ms/step - loss: 0.4143 - accuracy: 0.8163 - val_loss: 0.4328 - val_accuracy: 0.7990\n",
            "Epoch 27/100\n",
            "313/313 [==============================] - 6s 18ms/step - loss: 0.4131 - accuracy: 0.8158 - val_loss: 0.4314 - val_accuracy: 0.8000\n",
            "Epoch 28/100\n",
            "313/313 [==============================] - 5s 18ms/step - loss: 0.4120 - accuracy: 0.8150 - val_loss: 0.4326 - val_accuracy: 0.8002\n",
            "Epoch 29/100\n",
            "313/313 [==============================] - 5s 17ms/step - loss: 0.4106 - accuracy: 0.8156 - val_loss: 0.4333 - val_accuracy: 0.8034\n",
            "Epoch 30/100\n",
            "313/313 [==============================] - 6s 18ms/step - loss: 0.4092 - accuracy: 0.8170 - val_loss: 0.4315 - val_accuracy: 0.8010\n"
          ]
        }
      ],
      "source": [
        "# RMSprop(=경사 하강법의 한 종류로, 학습 속도를 조절하여 모델이 최적의 가중치를 찾도록 도움) 옵티마이저 정의\n",
        "rmsprop = keras.optimizers.RMSprop(learning_rate=1e-4)\n",
        "model.compile(optimizer=rmsprop, loss='binary_crossentropy',\n",
        "              metrics=['accuracy']) # 모델의 성능을 평가할 지표=정확도\n",
        "\n",
        "# 모델의 가중치를 저장하는 콜백 함수 정의\n",
        "checkpoint_cb = keras.callbacks.ModelCheckpoint('best-lstm-model.h5',\n",
        "                                                save_best_only=True) # 최상의 성능을 보이는 모델만 저장\n",
        "\n",
        "# 조기 종료를 수행하는 콜백 함수 정의\n",
        "early_stopping_cb = keras.callbacks.EarlyStopping(patience=3, # 성능이 향상되지 않더라도 몇 번까지 더 기다릴 것인지\n",
        "                                                  restore_best_weights=True) # 조기 종료 후에 최상의 성능을 보이는 모델의 가중치로 복구할 것인지\n",
        "\n",
        "history = model.fit(train_seq, train_target, epochs=100, batch_size=64,\n",
        "                    validation_data=(val_seq, val_target), # 검증 데이터 지정\n",
        "                    callbacks=[checkpoint_cb, early_stopping_cb])"
      ]
    },
    {
      "cell_type": "code",
      "execution_count": 7,
      "metadata": {
        "colab": {
          "base_uri": "https://localhost:8080/",
          "height": 449
        },
        "id": "Xl1bliNr6k2Q",
        "outputId": "8255d057-69d9-40d5-fcf1-c6a19f40b9d0"
      },
      "outputs": [
        {
          "data": {
            "image/png": "[encoded data removed]",
            "text/plain": [
              "<Figure size 640x480 with 1 Axes>"
            ]
          },
          "metadata": {},
          "output_type": "display_data"
        }
      ],
      "source": [
        "import matplotlib.pyplot as plt\n",
        "\n",
        "plt.plot(history.history['loss']) # 훈련 데이터셋에 대한 손실(오차)의 변화를 나타낸 그래프\n",
        "plt.plot(history.history['val_loss']) # 검증 데이터셋에 대한 손실(오차)의 변화를 나타낸 그래프\n",
        "plt.xlabel('epoch')\n",
        "plt.ylabel('loss')\n",
        "plt.legend(['train', 'val']) # 범례\n",
        "plt.show()"
      ]
    },
    {
      "cell_type": "markdown",
      "metadata": {
        "id": "ob79h7Kc6k2Q"
      },
      "source": [
        "순환층에 드롭아웃 적용하기"
      ]
    },
    {
      "cell_type": "code",
      "execution_count": 8,
      "metadata": {
        "id": "Fr0DUR-Y6k2R"
      },
      "outputs": [],
      "source": [
        "model2 = keras.Sequential() # Sequential 모델 생성\n",
        "\n",
        "# 입력으로 들어온 정수 시퀀스를 고정된 차원의 벡터로 변환하는 Embedding 레이어 추가\n",
        "# 500개의 단어 -> 16차원의 벡터로 임베딩\n",
        "model2.add(keras.layers.Embedding(500, 16, input_length=100))\n",
        "\n",
        "# 순환 신경망(RNN)의 한 종류로, 시퀀스 데이터를 처리하기 위한 LSTM 레이어 추가\n",
        "# dropout: 학습 과정 중에 무작위로 일부 뉴런을 비활성화하여 과적합을 방지\n",
        "model2.add(keras.layers.LSTM(8, dropout=0.3))\n",
        "model2.add(keras.layers.Dense(1, activation='sigmoid'))"
      ]
    },
    {
      "cell_type": "code",
      "execution_count": 9,
      "metadata": {
        "colab": {
          "base_uri": "https://localhost:8080/"
        },
        "id": "Ap8XxUO46k2R",
        "outputId": "2492aea8-5ef8-402d-a4d6-adb3a8ae77f3"
      },
      "outputs": [
        {
          "name": "stdout",
          "output_type": "stream",
          "text": [
            "Epoch 1/100\n",
            "313/313 [==============================] - 8s 20ms/step - loss: 0.6924 - accuracy: 0.5317 - val_loss: 0.6917 - val_accuracy: 0.5696\n",
            "Epoch 2/100\n",
            " 10/313 [..............................] - ETA: 5s - loss: 0.6922 - accuracy: 0.5297"
          ]
        },
        {
          "name": "stderr",
          "output_type": "stream",
          "text": [
            "c:\\Users\\tjoeun\\miniconda3\\envs\\tensorcpuenv\\lib\\site-packages\\keras\\src\\engine\\training.py:3103: UserWarning: You are saving your model as an HDF5 file via `model.save()`. This file format is considered legacy. We recommend using instead the native Keras format, e.g. `model.save('my_model.keras')`.\n",
            "  saving_api.save_model(\n"
          ]
        },
        {
          "name": "stdout",
          "output_type": "stream",
          "text": [
            "313/313 [==============================] - 6s 19ms/step - loss: 0.6907 - accuracy: 0.5788 - val_loss: 0.6897 - val_accuracy: 0.5984\n",
            "Epoch 3/100\n",
            "313/313 [==============================] - 6s 20ms/step - loss: 0.6879 - accuracy: 0.6057 - val_loss: 0.6861 - val_accuracy: 0.6232\n",
            "Epoch 4/100\n",
            "313/313 [==============================] - 6s 19ms/step - loss: 0.6826 - accuracy: 0.6251 - val_loss: 0.6787 - val_accuracy: 0.6392\n",
            "Epoch 5/100\n",
            "313/313 [==============================] - 6s 19ms/step - loss: 0.6674 - accuracy: 0.6511 - val_loss: 0.6529 - val_accuracy: 0.6630\n",
            "Epoch 6/100\n",
            "313/313 [==============================] - 6s 19ms/step - loss: 0.6258 - accuracy: 0.6999 - val_loss: 0.6108 - val_accuracy: 0.7108\n",
            "Epoch 7/100\n",
            "313/313 [==============================] - 6s 19ms/step - loss: 0.5967 - accuracy: 0.7250 - val_loss: 0.5894 - val_accuracy: 0.7274\n",
            "Epoch 8/100\n",
            "313/313 [==============================] - 6s 19ms/step - loss: 0.5771 - accuracy: 0.7402 - val_loss: 0.5723 - val_accuracy: 0.7396\n",
            "Epoch 9/100\n",
            "313/313 [==============================] - 6s 19ms/step - loss: 0.5599 - accuracy: 0.7513 - val_loss: 0.5534 - val_accuracy: 0.7522\n",
            "Epoch 10/100\n",
            "313/313 [==============================] - 6s 19ms/step - loss: 0.5442 - accuracy: 0.7606 - val_loss: 0.5381 - val_accuracy: 0.7640\n",
            "Epoch 11/100\n",
            "313/313 [==============================] - 6s 19ms/step - loss: 0.5293 - accuracy: 0.7683 - val_loss: 0.5235 - val_accuracy: 0.7690\n",
            "Epoch 12/100\n",
            "313/313 [==============================] - 6s 19ms/step - loss: 0.5166 - accuracy: 0.7732 - val_loss: 0.5114 - val_accuracy: 0.7700\n",
            "Epoch 13/100\n",
            "313/313 [==============================] - 6s 19ms/step - loss: 0.5052 - accuracy: 0.7791 - val_loss: 0.5009 - val_accuracy: 0.7844\n",
            "Epoch 14/100\n",
            "313/313 [==============================] - 6s 19ms/step - loss: 0.4928 - accuracy: 0.7819 - val_loss: 0.4905 - val_accuracy: 0.7852\n",
            "Epoch 15/100\n",
            "313/313 [==============================] - 6s 19ms/step - loss: 0.4837 - accuracy: 0.7881 - val_loss: 0.4857 - val_accuracy: 0.7782\n",
            "Epoch 16/100\n",
            "313/313 [==============================] - 6s 19ms/step - loss: 0.4753 - accuracy: 0.7911 - val_loss: 0.4750 - val_accuracy: 0.7890\n",
            "Epoch 17/100\n",
            "313/313 [==============================] - 6s 19ms/step - loss: 0.4669 - accuracy: 0.7939 - val_loss: 0.4688 - val_accuracy: 0.7916\n",
            "Epoch 18/100\n",
            "313/313 [==============================] - 6s 19ms/step - loss: 0.4599 - accuracy: 0.7969 - val_loss: 0.4637 - val_accuracy: 0.7898\n",
            "Epoch 19/100\n",
            "313/313 [==============================] - 6s 19ms/step - loss: 0.4538 - accuracy: 0.7991 - val_loss: 0.4582 - val_accuracy: 0.7918\n",
            "Epoch 20/100\n",
            "313/313 [==============================] - 6s 19ms/step - loss: 0.4504 - accuracy: 0.7995 - val_loss: 0.4541 - val_accuracy: 0.7952\n",
            "Epoch 21/100\n",
            "313/313 [==============================] - 6s 19ms/step - loss: 0.4468 - accuracy: 0.8002 - val_loss: 0.4514 - val_accuracy: 0.7942\n",
            "Epoch 22/100\n",
            "313/313 [==============================] - 6s 19ms/step - loss: 0.4440 - accuracy: 0.8015 - val_loss: 0.4500 - val_accuracy: 0.7952\n",
            "Epoch 23/100\n",
            "313/313 [==============================] - 6s 20ms/step - loss: 0.4414 - accuracy: 0.8028 - val_loss: 0.4478 - val_accuracy: 0.7942\n",
            "Epoch 24/100\n",
            "313/313 [==============================] - 6s 19ms/step - loss: 0.4390 - accuracy: 0.8008 - val_loss: 0.4482 - val_accuracy: 0.7948\n",
            "Epoch 25/100\n",
            "313/313 [==============================] - 6s 19ms/step - loss: 0.4371 - accuracy: 0.8021 - val_loss: 0.4450 - val_accuracy: 0.7960\n",
            "Epoch 26/100\n",
            "313/313 [==============================] - 6s 20ms/step - loss: 0.4352 - accuracy: 0.8040 - val_loss: 0.4442 - val_accuracy: 0.7998\n",
            "Epoch 27/100\n",
            "313/313 [==============================] - 6s 20ms/step - loss: 0.4324 - accuracy: 0.8061 - val_loss: 0.4417 - val_accuracy: 0.7974\n",
            "Epoch 28/100\n",
            "313/313 [==============================] - 6s 19ms/step - loss: 0.4325 - accuracy: 0.8048 - val_loss: 0.4414 - val_accuracy: 0.7976\n",
            "Epoch 29/100\n",
            "313/313 [==============================] - 6s 19ms/step - loss: 0.4299 - accuracy: 0.8065 - val_loss: 0.4431 - val_accuracy: 0.7990\n",
            "Epoch 30/100\n",
            "313/313 [==============================] - 6s 19ms/step - loss: 0.4293 - accuracy: 0.8058 - val_loss: 0.4400 - val_accuracy: 0.7984\n",
            "Epoch 31/100\n",
            "313/313 [==============================] - 6s 19ms/step - loss: 0.4276 - accuracy: 0.8077 - val_loss: 0.4421 - val_accuracy: 0.7936\n",
            "Epoch 32/100\n",
            "313/313 [==============================] - 6s 19ms/step - loss: 0.4258 - accuracy: 0.8087 - val_loss: 0.4384 - val_accuracy: 0.7978\n",
            "Epoch 33/100\n",
            "313/313 [==============================] - 6s 19ms/step - loss: 0.4255 - accuracy: 0.8073 - val_loss: 0.4382 - val_accuracy: 0.8018\n",
            "Epoch 34/100\n",
            "313/313 [==============================] - 6s 19ms/step - loss: 0.4244 - accuracy: 0.8074 - val_loss: 0.4375 - val_accuracy: 0.8026\n",
            "Epoch 35/100\n",
            "313/313 [==============================] - 6s 19ms/step - loss: 0.4247 - accuracy: 0.8068 - val_loss: 0.4369 - val_accuracy: 0.8034\n",
            "Epoch 36/100\n",
            "313/313 [==============================] - 6s 19ms/step - loss: 0.4223 - accuracy: 0.8102 - val_loss: 0.4357 - val_accuracy: 0.7988\n",
            "Epoch 37/100\n",
            "313/313 [==============================] - 6s 19ms/step - loss: 0.4238 - accuracy: 0.8077 - val_loss: 0.4401 - val_accuracy: 0.8006\n",
            "Epoch 38/100\n",
            "313/313 [==============================] - 6s 20ms/step - loss: 0.4199 - accuracy: 0.8087 - val_loss: 0.4349 - val_accuracy: 0.8016\n",
            "Epoch 39/100\n",
            "313/313 [==============================] - 6s 19ms/step - loss: 0.4214 - accuracy: 0.8091 - val_loss: 0.4339 - val_accuracy: 0.8018\n",
            "Epoch 40/100\n",
            "313/313 [==============================] - 6s 20ms/step - loss: 0.4215 - accuracy: 0.8102 - val_loss: 0.4375 - val_accuracy: 0.7934\n",
            "Epoch 41/100\n",
            "313/313 [==============================] - 6s 19ms/step - loss: 0.4203 - accuracy: 0.8094 - val_loss: 0.4332 - val_accuracy: 0.8018\n",
            "Epoch 42/100\n",
            "313/313 [==============================] - 6s 19ms/step - loss: 0.4176 - accuracy: 0.8083 - val_loss: 0.4341 - val_accuracy: 0.8046\n",
            "Epoch 43/100\n",
            "313/313 [==============================] - 6s 19ms/step - loss: 0.4189 - accuracy: 0.8105 - val_loss: 0.4345 - val_accuracy: 0.7974\n",
            "Epoch 44/100\n",
            "313/313 [==============================] - 6s 19ms/step - loss: 0.4178 - accuracy: 0.8117 - val_loss: 0.4335 - val_accuracy: 0.8038\n"
          ]
        }
      ],
      "source": [
        "# RMSprop 옵티마이저 정의. 학습률(learning rate)을 1e-4로 설정\n",
        "rmsprop = keras.optimizers.RMSprop(learning_rate=1e-4)\n",
        "model2.compile(optimizer=rmsprop, loss='binary_crossentropy',\n",
        "               metrics=['accuracy'])\n",
        "\n",
        "# 모델의 가중치를 저장하는 콜백 함수 정의\n",
        "# ModelCheckpoint: 학습 도중 모델의 성능이 좋아질 때마다 모델을 저장\n",
        "checkpoint_cb = keras.callbacks.ModelCheckpoint('best-dropout-model.h5',\n",
        "                                                save_best_only=True)\n",
        "\n",
        "# 조기 종료를 수행하는 콜백 함수 정의\n",
        "# EarlyStopping: 학습이 더 이상 성능이 향상되지 않을 때 학습을 조기 종료\n",
        "early_stopping_cb = keras.callbacks.EarlyStopping(patience=3,\n",
        "                                                  restore_best_weights=True)\n",
        "\n",
        "# 모델을 학습\n",
        "history = model2.fit(train_seq, train_target, epochs=100, batch_size=64,\n",
        "                     validation_data=(val_seq, val_target),\n",
        "                     callbacks=[checkpoint_cb, early_stopping_cb])"
      ]
    },
    {
      "cell_type": "code",
      "execution_count": 10,
      "metadata": {
        "colab": {
          "base_uri": "https://localhost:8080/",
          "height": 449
        },
        "id": "Qzwsp3pl6k2R",
        "outputId": "09e95dd5-8dd3-4c56-bc3d-09dca9599769"
      },
      "outputs": [
        {
          "data": {
            "image/png": "[encoded data removed]",
            "text/plain": [
              "<Figure size 640x480 with 1 Axes>"
            ]
          },
          "metadata": {},
          "output_type": "display_data"
        }
      ],
      "source": [
        "plt.plot(history.history['loss'])\n",
        "plt.plot(history.history['val_loss'])\n",
        "plt.xlabel('epoch')\n",
        "plt.ylabel('loss')\n",
        "plt.legend(['train', 'val'])\n",
        "plt.show()"
      ]
    },
    {
      "cell_type": "markdown",
      "metadata": {
        "id": "DKtQByM96k2S"
      },
      "source": [
        "2개의 층을 연결하기"
      ]
    },
    {
      "cell_type": "code",
      "execution_count": 11,
      "metadata": {
        "colab": {
          "base_uri": "https://localhost:8080/"
        },
        "id": "YkQboCpD6k2S",
        "outputId": "89d007a4-6b72-4c0d-c4c9-10a5e5d0bd1d"
      },
      "outputs": [
        {
          "name": "stdout",
          "output_type": "stream",
          "text": [
            "Model: \"sequential_2\"\n",
            "_________________________________________________________________\n",
            " Layer (type)                Output Shape              Param #   \n",
            "=================================================================\n",
            " embedding_2 (Embedding)     (None, 100, 16)           8000      \n",
            "                                                                 \n",
            " lstm_2 (LSTM)               (None, 100, 8)            800       \n",
            "                                                                 \n",
            " lstm_3 (LSTM)               (None, 8)                 544       \n",
            "                                                                 \n",
            " dense_2 (Dense)             (None, 1)                 9         \n",
            "                                                                 \n",
            "=================================================================\n",
            "Total params: 9353 (36.54 KB)\n",
            "Trainable params: 9353 (36.54 KB)\n",
            "Non-trainable params: 0 (0.00 Byte)\n",
            "_________________________________________________________________\n"
          ]
        }
      ],
      "source": [
        "# 2개의 LSTM 레이어를 포함한 시퀀스 데이터 처리 모델 정의\n",
        "\n",
        "model3 = keras.Sequential() # Sequential 모델 생성\n",
        "\n",
        "model3.add(keras.layers.Embedding(500, 16, input_length=100))\n",
        "\n",
        "# 첫 번재 LSTM 레이어 추가. return_sequences=True: 이 LSTM 레이어가 시퀀스를 반환해야 함을 나타냄\n",
        "model3.add(keras.layers.LSTM(8, dropout=0.3, return_sequences=True))\n",
        "\n",
        "# 두 번째 LSTM 레이어 추가\n",
        "model3.add(keras.layers.LSTM(8, dropout=0.3))\n",
        "\n",
        "# Fully Connected 레이어 추가\n",
        "model3.add(keras.layers.Dense(1, activation='sigmoid'))\n",
        "\n",
        "model3.summary()"
      ]
    },
    {
      "cell_type": "code",
      "execution_count": 12,
      "metadata": {
        "colab": {
          "base_uri": "https://localhost:8080/"
        },
        "id": "hDk_ffAo6k2S",
        "outputId": "a4304a6d-17eb-4957-96ab-00f3d0ec8e49"
      },
      "outputs": [
        {
          "name": "stdout",
          "output_type": "stream",
          "text": [
            "Epoch 1/100\n",
            "313/313 [==============================] - 15s 38ms/step - loss: 0.6929 - accuracy: 0.5168 - val_loss: 0.6927 - val_accuracy: 0.5280\n",
            "Epoch 2/100\n",
            "313/313 [==============================] - 11s 36ms/step - loss: 0.6914 - accuracy: 0.5788 - val_loss: 0.6893 - val_accuracy: 0.6228\n",
            "Epoch 3/100\n",
            "313/313 [==============================] - 11s 36ms/step - loss: 0.6750 - accuracy: 0.6473 - val_loss: 0.6432 - val_accuracy: 0.6782\n",
            "Epoch 4/100\n",
            "313/313 [==============================] - 11s 35ms/step - loss: 0.6067 - accuracy: 0.6889 - val_loss: 0.5798 - val_accuracy: 0.7046\n",
            "Epoch 5/100\n",
            "313/313 [==============================] - 11s 36ms/step - loss: 0.5611 - accuracy: 0.7233 - val_loss: 0.5406 - val_accuracy: 0.7358\n",
            "Epoch 6/100\n",
            "313/313 [==============================] - 11s 36ms/step - loss: 0.5311 - accuracy: 0.7439 - val_loss: 0.5173 - val_accuracy: 0.7542\n",
            "Epoch 7/100\n",
            "313/313 [==============================] - 11s 35ms/step - loss: 0.5142 - accuracy: 0.7568 - val_loss: 0.5006 - val_accuracy: 0.7670\n",
            "Epoch 8/100\n",
            "313/313 [==============================] - 11s 35ms/step - loss: 0.4986 - accuracy: 0.7653 - val_loss: 0.4950 - val_accuracy: 0.7680\n",
            "Epoch 9/100\n",
            "313/313 [==============================] - 11s 35ms/step - loss: 0.4860 - accuracy: 0.7739 - val_loss: 0.4806 - val_accuracy: 0.7778\n",
            "Epoch 10/100\n",
            "313/313 [==============================] - 11s 35ms/step - loss: 0.4782 - accuracy: 0.7804 - val_loss: 0.4716 - val_accuracy: 0.7838\n",
            "Epoch 11/100\n",
            "313/313 [==============================] - 11s 36ms/step - loss: 0.4717 - accuracy: 0.7793 - val_loss: 0.4670 - val_accuracy: 0.7842\n",
            "Epoch 12/100\n",
            "313/313 [==============================] - 11s 35ms/step - loss: 0.4669 - accuracy: 0.7839 - val_loss: 0.4628 - val_accuracy: 0.7850\n",
            "Epoch 13/100\n",
            "313/313 [==============================] - 11s 35ms/step - loss: 0.4599 - accuracy: 0.7875 - val_loss: 0.4589 - val_accuracy: 0.7896\n",
            "Epoch 14/100\n",
            "313/313 [==============================] - 11s 35ms/step - loss: 0.4566 - accuracy: 0.7892 - val_loss: 0.4575 - val_accuracy: 0.7864\n",
            "Epoch 15/100\n",
            "313/313 [==============================] - 11s 36ms/step - loss: 0.4520 - accuracy: 0.7928 - val_loss: 0.4676 - val_accuracy: 0.7814\n",
            "Epoch 16/100\n",
            "313/313 [==============================] - 11s 36ms/step - loss: 0.4506 - accuracy: 0.7913 - val_loss: 0.4557 - val_accuracy: 0.7878\n",
            "Epoch 17/100\n",
            "313/313 [==============================] - 11s 36ms/step - loss: 0.4492 - accuracy: 0.7930 - val_loss: 0.4538 - val_accuracy: 0.7876\n",
            "Epoch 18/100\n",
            "313/313 [==============================] - 11s 36ms/step - loss: 0.4460 - accuracy: 0.7958 - val_loss: 0.4477 - val_accuracy: 0.7942\n",
            "Epoch 19/100\n",
            "313/313 [==============================] - 11s 36ms/step - loss: 0.4446 - accuracy: 0.7962 - val_loss: 0.4477 - val_accuracy: 0.7932\n",
            "Epoch 20/100\n",
            "313/313 [==============================] - 11s 36ms/step - loss: 0.4403 - accuracy: 0.7969 - val_loss: 0.4451 - val_accuracy: 0.7952\n",
            "Epoch 21/100\n",
            "313/313 [==============================] - 11s 36ms/step - loss: 0.4405 - accuracy: 0.7970 - val_loss: 0.4439 - val_accuracy: 0.7940\n",
            "Epoch 22/100\n",
            "313/313 [==============================] - 11s 36ms/step - loss: 0.4382 - accuracy: 0.7983 - val_loss: 0.4471 - val_accuracy: 0.7950\n",
            "Epoch 23/100\n",
            "313/313 [==============================] - 11s 36ms/step - loss: 0.4367 - accuracy: 0.8008 - val_loss: 0.4430 - val_accuracy: 0.7932\n",
            "Epoch 24/100\n",
            "313/313 [==============================] - 11s 35ms/step - loss: 0.4350 - accuracy: 0.8009 - val_loss: 0.4456 - val_accuracy: 0.7908\n",
            "Epoch 25/100\n",
            "313/313 [==============================] - 11s 35ms/step - loss: 0.4353 - accuracy: 0.8008 - val_loss: 0.4414 - val_accuracy: 0.7936\n",
            "Epoch 26/100\n",
            "313/313 [==============================] - 11s 35ms/step - loss: 0.4335 - accuracy: 0.7994 - val_loss: 0.4426 - val_accuracy: 0.7892\n",
            "Epoch 27/100\n",
            "313/313 [==============================] - 11s 35ms/step - loss: 0.4313 - accuracy: 0.8015 - val_loss: 0.4407 - val_accuracy: 0.7932\n",
            "Epoch 28/100\n",
            "313/313 [==============================] - 11s 36ms/step - loss: 0.4313 - accuracy: 0.8003 - val_loss: 0.4401 - val_accuracy: 0.7932\n",
            "Epoch 29/100\n",
            "313/313 [==============================] - 11s 35ms/step - loss: 0.4312 - accuracy: 0.8038 - val_loss: 0.4453 - val_accuracy: 0.7968\n",
            "Epoch 30/100\n",
            "313/313 [==============================] - 11s 35ms/step - loss: 0.4296 - accuracy: 0.8054 - val_loss: 0.4393 - val_accuracy: 0.7938\n",
            "Epoch 31/100\n",
            "313/313 [==============================] - 11s 35ms/step - loss: 0.4296 - accuracy: 0.8038 - val_loss: 0.4470 - val_accuracy: 0.7890\n",
            "Epoch 32/100\n",
            "313/313 [==============================] - 11s 35ms/step - loss: 0.4270 - accuracy: 0.8030 - val_loss: 0.4395 - val_accuracy: 0.7910\n",
            "Epoch 33/100\n",
            "313/313 [==============================] - 11s 35ms/step - loss: 0.4283 - accuracy: 0.8027 - val_loss: 0.4434 - val_accuracy: 0.7984\n"
          ]
        }
      ],
      "source": [
        "rmsprop = keras.optimizers.RMSprop(learning_rate=1e-4)\n",
        "model3.compile(optimizer=rmsprop, loss='binary_crossentropy',\n",
        "               metrics=['accuracy'])\n",
        "\n",
        "checkpoint_cb = keras.callbacks.ModelCheckpoint('best-2rnn-model.h5',\n",
        "                                                save_best_only=True)\n",
        "early_stopping_cb = keras.callbacks.EarlyStopping(patience=3,\n",
        "                                                  restore_best_weights=True)\n",
        "\n",
        "history = model3.fit(train_seq, train_target, epochs=100, batch_size=64,\n",
        "                     validation_data=(val_seq, val_target),\n",
        "                     callbacks=[checkpoint_cb, early_stopping_cb])"
      ]
    },
    {
      "cell_type": "code",
      "execution_count": 13,
      "metadata": {
        "colab": {
          "base_uri": "https://localhost:8080/",
          "height": 449
        },
        "id": "1paBqczf6k2S",
        "outputId": "c0f88192-feaa-46fd-c0d7-396ff54685f5"
      },
      "outputs": [
        {
          "data": {
            "image/png": "[encoded data removed]",
            "text/plain": [
              "<Figure size 640x480 with 1 Axes>"
            ]
          },
          "metadata": {},
          "output_type": "display_data"
        }
      ],
      "source": [
        "plt.plot(history.history['loss'])\n",
        "plt.plot(history.history['val_loss'])\n",
        "plt.xlabel('epoch')\n",
        "plt.ylabel('loss')\n",
        "plt.legend(['train', 'val'])\n",
        "plt.show()"
      ]
    },
    {
      "cell_type": "markdown",
      "metadata": {
        "id": "Jisn0P9h6k2T"
      },
      "source": [
        "GRU 신경망 훈련하기"
      ]
    },
    {
      "cell_type": "code",
      "execution_count": 14,
      "metadata": {
        "colab": {
          "base_uri": "https://localhost:8080/"
        },
        "id": "dwYF578d6k2T",
        "outputId": "a135f0a7-3ebf-44f5-94f1-a6ba45760f01"
      },
      "outputs": [
        {
          "name": "stdout",
          "output_type": "stream",
          "text": [
            "Model: \"sequential_3\"\n",
            "_________________________________________________________________\n",
            " Layer (type)                Output Shape              Param #   \n",
            "=================================================================\n",
            " embedding_3 (Embedding)     (None, 100, 16)           8000      \n",
            "                                                                 \n",
            " gru (GRU)                   (None, 8)                 624       \n",
            "                                                                 \n",
            " dense_3 (Dense)             (None, 1)                 9         \n",
            "                                                                 \n",
            "=================================================================\n",
            "Total params: 8633 (33.72 KB)\n",
            "Trainable params: 8633 (33.72 KB)\n",
            "Non-trainable params: 0 (0.00 Byte)\n",
            "_________________________________________________________________\n"
          ]
        }
      ],
      "source": [
        "model4 = keras.Sequential()\n",
        "\n",
        "model4.add(keras.layers.Embedding(500, 16, input_length=100))\n",
        "\n",
        "# GRU(Gated Recurrent Unit) 레이어 추가\n",
        "# GRU: LSTM의 간소화 버전으로, 순환 신경망(RNN)에서 시퀀스 데이터를 처리하는 데 사용\n",
        "model4.add(keras.layers.GRU(8))\n",
        "model4.add(keras.layers.Dense(1, activation='sigmoid'))\n",
        "\n",
        "model4.summary()"
      ]
    },
    {
      "cell_type": "code",
      "execution_count": 15,
      "metadata": {
        "colab": {
          "base_uri": "https://localhost:8080/"
        },
        "id": "j2SfOZ3v6k2U",
        "outputId": "440ad434-7a85-4c01-c6a3-99ed6e742489"
      },
      "outputs": [
        {
          "name": "stdout",
          "output_type": "stream",
          "text": [
            "Epoch 1/100\n",
            "313/313 [==============================] - 9s 22ms/step - loss: 0.6920 - accuracy: 0.5486 - val_loss: 0.6912 - val_accuracy: 0.5724\n",
            "Epoch 2/100\n",
            "313/313 [==============================] - 7s 21ms/step - loss: 0.6898 - accuracy: 0.5790 - val_loss: 0.6889 - val_accuracy: 0.5830\n",
            "Epoch 3/100\n",
            "313/313 [==============================] - 6s 21ms/step - loss: 0.6865 - accuracy: 0.5975 - val_loss: 0.6852 - val_accuracy: 0.5958\n",
            "Epoch 4/100\n",
            "313/313 [==============================] - 6s 21ms/step - loss: 0.6813 - accuracy: 0.6107 - val_loss: 0.6792 - val_accuracy: 0.5994\n",
            "Epoch 5/100\n",
            "313/313 [==============================] - 6s 20ms/step - loss: 0.6732 - accuracy: 0.6204 - val_loss: 0.6701 - val_accuracy: 0.6134\n",
            "Epoch 6/100\n",
            "313/313 [==============================] - 7s 21ms/step - loss: 0.6608 - accuracy: 0.6387 - val_loss: 0.6556 - val_accuracy: 0.6302\n",
            "Epoch 7/100\n",
            "313/313 [==============================] - 6s 21ms/step - loss: 0.6404 - accuracy: 0.6581 - val_loss: 0.6304 - val_accuracy: 0.6640\n",
            "Epoch 8/100\n",
            "313/313 [==============================] - 7s 21ms/step - loss: 0.6019 - accuracy: 0.6898 - val_loss: 0.5781 - val_accuracy: 0.7058\n",
            "Epoch 9/100\n",
            "313/313 [==============================] - 6s 21ms/step - loss: 0.5315 - accuracy: 0.7373 - val_loss: 0.5158 - val_accuracy: 0.7470\n",
            "Epoch 10/100\n",
            "313/313 [==============================] - 6s 20ms/step - loss: 0.4969 - accuracy: 0.7618 - val_loss: 0.4963 - val_accuracy: 0.7624\n",
            "Epoch 11/100\n",
            "313/313 [==============================] - 6s 21ms/step - loss: 0.4798 - accuracy: 0.7743 - val_loss: 0.4828 - val_accuracy: 0.7722\n",
            "Epoch 12/100\n",
            "313/313 [==============================] - 6s 21ms/step - loss: 0.4667 - accuracy: 0.7823 - val_loss: 0.4724 - val_accuracy: 0.7772\n",
            "Epoch 13/100\n",
            "313/313 [==============================] - 6s 20ms/step - loss: 0.4567 - accuracy: 0.7879 - val_loss: 0.4655 - val_accuracy: 0.7826\n",
            "Epoch 14/100\n",
            "313/313 [==============================] - 6s 21ms/step - loss: 0.4485 - accuracy: 0.7962 - val_loss: 0.4589 - val_accuracy: 0.7856\n",
            "Epoch 15/100\n",
            "313/313 [==============================] - 7s 21ms/step - loss: 0.4425 - accuracy: 0.7997 - val_loss: 0.4651 - val_accuracy: 0.7866\n",
            "Epoch 16/100\n",
            "313/313 [==============================] - 7s 21ms/step - loss: 0.4375 - accuracy: 0.8038 - val_loss: 0.4533 - val_accuracy: 0.7942\n",
            "Epoch 17/100\n",
            "313/313 [==============================] - 7s 21ms/step - loss: 0.4331 - accuracy: 0.8059 - val_loss: 0.4504 - val_accuracy: 0.7922\n",
            "Epoch 18/100\n",
            "313/313 [==============================] - 7s 21ms/step - loss: 0.4300 - accuracy: 0.8080 - val_loss: 0.4471 - val_accuracy: 0.7930\n",
            "Epoch 19/100\n",
            "313/313 [==============================] - 7s 21ms/step - loss: 0.4270 - accuracy: 0.8095 - val_loss: 0.4477 - val_accuracy: 0.7920\n",
            "Epoch 20/100\n",
            "313/313 [==============================] - 6s 20ms/step - loss: 0.4246 - accuracy: 0.8117 - val_loss: 0.4448 - val_accuracy: 0.7942\n",
            "Epoch 21/100\n",
            "313/313 [==============================] - 6s 20ms/step - loss: 0.4231 - accuracy: 0.8102 - val_loss: 0.4453 - val_accuracy: 0.7912\n",
            "Epoch 22/100\n",
            "313/313 [==============================] - 6s 21ms/step - loss: 0.4215 - accuracy: 0.8124 - val_loss: 0.4476 - val_accuracy: 0.7946\n",
            "Epoch 23/100\n",
            "313/313 [==============================] - 7s 21ms/step - loss: 0.4201 - accuracy: 0.8131 - val_loss: 0.4430 - val_accuracy: 0.7964\n",
            "Epoch 24/100\n",
            "313/313 [==============================] - 7s 21ms/step - loss: 0.4187 - accuracy: 0.8145 - val_loss: 0.4433 - val_accuracy: 0.7908\n",
            "Epoch 25/100\n",
            "313/313 [==============================] - 7s 21ms/step - loss: 0.4181 - accuracy: 0.8130 - val_loss: 0.4419 - val_accuracy: 0.7932\n",
            "Epoch 26/100\n",
            "313/313 [==============================] - 6s 20ms/step - loss: 0.4168 - accuracy: 0.8151 - val_loss: 0.4433 - val_accuracy: 0.7934\n",
            "Epoch 27/100\n",
            "313/313 [==============================] - 6s 21ms/step - loss: 0.4162 - accuracy: 0.8148 - val_loss: 0.4412 - val_accuracy: 0.7930\n",
            "Epoch 28/100\n",
            "313/313 [==============================] - 6s 21ms/step - loss: 0.4157 - accuracy: 0.8142 - val_loss: 0.4418 - val_accuracy: 0.7916\n",
            "Epoch 29/100\n",
            "313/313 [==============================] - 7s 21ms/step - loss: 0.4148 - accuracy: 0.8148 - val_loss: 0.4455 - val_accuracy: 0.7964\n",
            "Epoch 30/100\n",
            "313/313 [==============================] - 7s 21ms/step - loss: 0.4136 - accuracy: 0.8165 - val_loss: 0.4423 - val_accuracy: 0.7914\n"
          ]
        }
      ],
      "source": [
        "rmsprop = keras.optimizers.RMSprop(learning_rate=1e-4) # RMSprop: 경사 하강법의 한 종류로, 각 가중치의 학습률을 조절하여 학습의 안정성을 향상시키는 방법\n",
        "model4.compile(optimizer=rmsprop, loss='binary_crossentropy',\n",
        "               metrics=['accuracy'])\n",
        "\n",
        "checkpoint_cb = keras.callbacks.ModelCheckpoint('best-gru-model.h5',\n",
        "                                                save_best_only=True)\n",
        "early_stopping_cb = keras.callbacks.EarlyStopping(patience=3,\n",
        "                                                  restore_best_weights=True)\n",
        "\n",
        "history = model4.fit(train_seq, train_target, epochs=100, batch_size=64,\n",
        "                     validation_data=(val_seq, val_target),\n",
        "                     callbacks=[checkpoint_cb, early_stopping_cb])\n",
        "\n",
        "# 학습 도중에는 앞서 정의한 콜백 함수들을 사용하여 모델의 성능을 모니터링하고, 필요한 경우 모델의 가중치를 저장하거나 조기 종료를 수행"
      ]
    },
    {
      "cell_type": "code",
      "execution_count": 16,
      "metadata": {
        "colab": {
          "base_uri": "https://localhost:8080/",
          "height": 449
        },
        "id": "3yUJM4nA6k2U",
        "outputId": "2f8149ee-d4fe-4282-8189-ec442ae1a375"
      },
      "outputs": [
        {
          "data": {
            "image/png": "[encoded data removed]",
            "text/plain": [
              "<Figure size 640x480 with 1 Axes>"
            ]
          },
          "metadata": {},
          "output_type": "display_data"
        }
      ],
      "source": [
        "plt.plot(history.history['loss'])\n",
        "plt.plot(history.history['val_loss'])\n",
        "plt.xlabel('epoch')\n",
        "plt.ylabel('loss')\n",
        "plt.legend(['train', 'val'])\n",
        "plt.show()"
      ]
    },
    {
      "cell_type": "markdown",
      "metadata": {
        "id": "Ja3-116b6k2V"
      },
      "source": [
        "마무리"
      ]
    },
    {
      "cell_type": "code",
      "execution_count": 17,
      "metadata": {
        "colab": {
          "base_uri": "https://localhost:8080/"
        },
        "id": "-5WtFRN-6k2V",
        "outputId": "0935691a-c23b-4991-c709-fd0c6050eab2",
        "tags": []
      },
      "outputs": [
        {
          "name": "stdout",
          "output_type": "stream",
          "text": [
            "782/782 [==============================] - 7s 8ms/step - loss: 0.4346 - accuracy: 0.7975\n"
          ]
        },
        {
          "data": {
            "text/plain": [
              "[0.434622585773468, 0.7974799871444702]"
            ]
          },
          "execution_count": 17,
          "metadata": {},
          "output_type": "execute_result"
        }
      ],
      "source": [
        "# 테스트 데이터(test_input)를 패딩하여 길이를 맞춤 (모델이 고정된 길이의 입력을 요구하므로)\n",
        "# 'pad_sequence' 함수를 사용하여 시퀀시의 길이를 100으로 맞추고, 부족한 부분은 0으로 채움\n",
        "test_seq = pad_sequences(test_input, maxlen=100)\n",
        "\n",
        "rnn_model = keras.models.load_model('best-2rnn-model.h5')\n",
        "\n",
        "rnn_model.evaluate(test_seq, test_target)"
      ]
    }
  ],
  "metadata": {
    "accelerator": "GPU",
    "colab": {
      "name": "9-3.ipynb",
      "provenance": []
    },
    "kernelspec": {
      "display_name": "tensorcpuenv",
      "language": "python",
      "name": "python3"
    },
    "language_info": {
      "codemirror_mode": {
        "name": "ipython",
        "version": 3
      },
      "file_extension": ".py",
      "mimetype": "text/x-python",
      "name": "python",
      "nbconvert_exporter": "python",
      "pygments_lexer": "ipython3",
      "version": "3.9.18"
    }
  },
  "nbformat": 4,
  "nbformat_minor": 0
}
